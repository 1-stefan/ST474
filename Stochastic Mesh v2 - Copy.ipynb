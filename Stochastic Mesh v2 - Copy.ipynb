{
 "cells": [
  {
   "cell_type": "code",
   "execution_count": 113,
   "metadata": {},
   "outputs": [],
   "source": [
    "import yfinance as yf\n",
    "import pandas as pd\n",
    "import numpy as np\n",
    "import matplotlib.pyplot as plt\n",
    "import seaborn as sns\n",
    "import sklearn as sk\n",
    "import statsmodels.api as sm\n",
    "from datetime import datetime as dt\n",
    "from dateutil.relativedelta import relativedelta as rd\n",
    "import schedule\n",
    "from sklearn.linear_model import LinearRegression\n",
    "from scipy import stats\n",
    "import scipy.stats\n",
    "import random\n",
    "from datetime import datetime, timedelta"
   ]
  },
  {
   "cell_type": "code",
   "execution_count": 114,
   "metadata": {},
   "outputs": [],
   "source": [
    "#function for testing the time it takes for another function to run\n",
    "\n",
    "from functools import wraps\n",
    "from time import time\n",
    "\n",
    "def timing(f):\n",
    "    @wraps(f)\n",
    "    def wrap(*args,**kw):\n",
    "        tstart = time()\n",
    "        result = f(*args,**kw)\n",
    "        tend = time()\n",
    "        print('func:%r args: [%r,%r] took: %2.4f sec' % \\\n",
    "              (f.__name__,args,kw,tend-tstart))\n",
    "        return result\n",
    "    return wrap\n",
    "        \n",
    "        \n",
    "    "
   ]
  },
  {
   "cell_type": "code",
   "execution_count": 239,
   "metadata": {},
   "outputs": [
    {
     "data": {
      "text/plain": [
       "(0.21724846890354532,\n",
       " 0.3344071952807839,\n",
       " 193.4199981689453,\n",
       " 205.0,\n",
       " 0.08213552361396304,\n",
       " 11.68)"
      ]
     },
     "execution_count": 239,
     "metadata": {},
     "output_type": "execute_result"
    }
   ],
   "source": [
    "def get_random_option(ticker):\n",
    "    stock = yf.Ticker(ticker)\n",
    "    historical_data = stock.history(period=\"1y\")\n",
    "    sigma = historical_data[\"Close\"].pct_change().std() * (252 ** 0.5)\n",
    "    mu = historical_data[\"Close\"].pct_change().mean()*252\n",
    "    expirations = stock.options\n",
    "    selected_expiration = random.choice(expirations)\n",
    "    \n",
    "    options_chain = stock.option_chain(selected_expiration)\n",
    "    \n",
    "    # Filter for in-the-money (ITM) options\n",
    "    itm_options = [option for option in options_chain.puts.to_dict(orient=\"records\") if option['inTheMoney']]\n",
    "    \n",
    "    # Ensure there are ITM options available\n",
    "    if not itm_options:\n",
    "        print(\"No in-the-money options available for the selected expiration.\")\n",
    "        return\n",
    "    \n",
    "    # Get random ITM put option from the options chain\n",
    "    random_put_option = random.choice(itm_options)\n",
    "    K = random_put_option['strike']\n",
    "    option_price = random_put_option['lastPrice']\n",
    "    S0 = stock.history(period=\"1d\")[\"Close\"][-1]\n",
    "    maturity_date = datetime.now() + timedelta(days=30)\n",
    "    T = (maturity_date - datetime.now()).days / 365.25\n",
    "    return sigma, mu, S0, K, T, option_price\n",
    "\n",
    "option_stats = get_random_option('AAPL')\n",
    "option_stats"
   ]
  },
  {
   "cell_type": "code",
   "execution_count": 240,
   "metadata": {},
   "outputs": [
    {
     "name": "stdout",
     "output_type": "stream",
     "text": [
      "0.21724846890354532 0.3344071952807839 193.4199981689453 205.0 0.08213552361396304\n"
     ]
    }
   ],
   "source": [
    "#Inputs\n",
    "r = 0.06 # Risk-free rate taken from US treasury bonds \n",
    "#sigma = 0.2\n",
    "#mu = 0.06\n",
    "#seed = None\n",
    "#S0 = 100 #Initial Stock Price\n",
    "#K = 100  #Strike Price\n",
    "#T = 1    #Time to Maturity in Years\n",
    "sigma = option_stats[0]\n",
    "mu = option_stats[1]\n",
    "seed = None\n",
    "S0 = option_stats[2] #Initial Stock Price\n",
    "K = option_stats[3]  #Strike Price\n",
    "T = option_stats[4]    #Time to Maturity in Years\n",
    "N = 5   #Number of Time Steps\n",
    "u = 1.1  #up-factor in binomial model\n",
    "d = 1/u  #down-factor in binomial model\n",
    "optiontype = 'P' #Choose 'C' for call & 'P' for Put\n",
    "num_paths = 6\n",
    "print(sigma, mu, S0, K, T)"
   ]
  },
  {
   "cell_type": "code",
   "execution_count": 241,
   "metadata": {},
   "outputs": [],
   "source": [
    "def gbm_stock_price(S0, mu, sigma, T, N, seed=None):\n",
    "    np.random.seed(seed)\n",
    "    dt = T / N\n",
    "    t = np.linspace(0, T, N+1)\n",
    "    W = np.random.standard_normal(size=N+1) \n",
    "    W = np.cumsum(W) * np.sqrt(dt)  # Brownian motion\n",
    "    X = (r - 0.5 * sigma**2) * t + sigma * W  # GBM process\n",
    "    S = S0 * np.exp(X)  # Stock price process\n",
    "    S[0] = S0\n",
    "    return S"
   ]
  },
  {
   "cell_type": "code",
   "execution_count": 242,
   "metadata": {},
   "outputs": [
    {
     "name": "stderr",
     "output_type": "stream",
     "text": [
      "C:\\Users\\stefa\\AppData\\Local\\Temp\\ipykernel_45956\\1779049943.py:32: RuntimeWarning: invalid value encountered in divide\n",
      "  prob /= np.sum(prob)\n"
     ]
    },
    {
     "data": {
      "text/plain": [
       "15.194308279067588"
      ]
     },
     "execution_count": 242,
     "metadata": {},
     "output_type": "execute_result"
    }
   ],
   "source": [
    "def matrices(r, sigma, mu, seed, S0, K, T, N, u, d, optiontype, num_paths):\n",
    "    payoffs = np.zeros((num_paths, N))\n",
    "    X = np.zeros((num_paths, N))\n",
    "    W = np.zeros((num_paths, N))\n",
    "    np.random.seed(seed)\n",
    "    dt = T / N\n",
    "    t = np.linspace(0, T, N)\n",
    "    for path in range(num_paths):\n",
    "        # Generate random samples from a normal distribution\n",
    "        random_samples = np.random.normal(size=N)\n",
    "        \n",
    "        # Scale the random samples by the square root of the time step\n",
    "        scaled_samples = np.sqrt(dt) * random_samples\n",
    "        \n",
    "        # Cumulatively sum the scaled samples to simulate Brownian motion\n",
    "        W[path,:] = np.cumsum(scaled_samples)\n",
    "        X[path,:] = S0*np.exp((mu - 0.5 * sigma**2) * t + sigma * W[path,:]) \n",
    "    X[:,0] = S0\n",
    "    stock_end = X[:, -1]\n",
    "    for i in range(0,N):\n",
    "        payoffS = np.maximum(K-X,0)\n",
    "    payoffS = payoffS[:, 1:]\n",
    "    value_end = np.maximum(K-stock_end,0)\n",
    "    dt = T / N\n",
    "    probability_matrices = []\n",
    "    for j in range(N-2, -1, -1):\n",
    "        probability_matrix = np.zeros((num_paths, num_paths))\n",
    "        for k in range(num_paths):\n",
    "            mu_conditional = np.log(X[:, j+1] / X[k, j]) / dt - 0.5 * sigma**2\n",
    "            sigma_conditional = sigma * np.sqrt(dt)\n",
    "            prob = scipy.stats.norm.pdf(np.log(X[:, j+1] / X[k, j]), loc=mu_conditional, scale=sigma_conditional)\n",
    "            prob /= np.sum(prob)\n",
    "            probability_matrix[k, :] = prob\n",
    "        probability_matrices.append(probability_matrix)\n",
    "    k = 0\n",
    "    cont_matrix = np.zeros((num_paths,N-1))\n",
    "    for j in range(N-2,-1,-1):\n",
    "        for i in range(num_paths):\n",
    "            cont_matrix[i][j] = np.dot(probability_matrices[k][i,:],payoffS[:,j])*np.exp(r*dt)\n",
    "        k+=1\n",
    "    max_value = np.maximum(cont_matrix,payoffS)\n",
    "    price = sum(1/N*max_value[:,0])\n",
    "    \n",
    "    return price#payoffs, probability_matrices, X, cont_matrix, max_value\n",
    "\n",
    "matrices(r, sigma, mu, seed, S0, K, T, N, u, d, optiontype, num_paths)"
   ]
  },
  {
   "cell_type": "code",
   "execution_count": 258,
   "metadata": {},
   "outputs": [
    {
     "name": "stderr",
     "output_type": "stream",
     "text": [
      "C:\\Users\\stefa\\AppData\\Local\\Temp\\ipykernel_45956\\1779049943.py:32: RuntimeWarning: invalid value encountered in divide\n",
      "  prob /= np.sum(prob)\n",
      "C:\\Users\\stefa\\AppData\\Local\\Temp\\ipykernel_45956\\1779049943.py:32: RuntimeWarning: invalid value encountered in divide\n",
      "  prob /= np.sum(prob)\n",
      "C:\\Users\\stefa\\AppData\\Local\\Temp\\ipykernel_45956\\1779049943.py:32: RuntimeWarning: invalid value encountered in divide\n",
      "  prob /= np.sum(prob)\n",
      "C:\\Users\\stefa\\AppData\\Local\\Temp\\ipykernel_45956\\1779049943.py:32: RuntimeWarning: invalid value encountered in divide\n",
      "  prob /= np.sum(prob)\n",
      "C:\\Users\\stefa\\AppData\\Local\\Temp\\ipykernel_45956\\1779049943.py:32: RuntimeWarning: invalid value encountered in divide\n",
      "  prob /= np.sum(prob)\n",
      "C:\\Users\\stefa\\AppData\\Local\\Temp\\ipykernel_45956\\1779049943.py:32: RuntimeWarning: invalid value encountered in divide\n",
      "  prob /= np.sum(prob)\n",
      "C:\\Users\\stefa\\AppData\\Local\\Temp\\ipykernel_45956\\1779049943.py:32: RuntimeWarning: invalid value encountered in divide\n",
      "  prob /= np.sum(prob)\n",
      "C:\\Users\\stefa\\AppData\\Local\\Temp\\ipykernel_45956\\1779049943.py:32: RuntimeWarning: invalid value encountered in divide\n",
      "  prob /= np.sum(prob)\n",
      "C:\\Users\\stefa\\AppData\\Local\\Temp\\ipykernel_45956\\1779049943.py:32: RuntimeWarning: invalid value encountered in divide\n",
      "  prob /= np.sum(prob)\n",
      "C:\\Users\\stefa\\AppData\\Local\\Temp\\ipykernel_45956\\1779049943.py:32: RuntimeWarning: invalid value encountered in divide\n",
      "  prob /= np.sum(prob)\n"
     ]
    }
   ],
   "source": [
    "sim_prices = []\n",
    "real_prices = []\n",
    "option_stats = []\n",
    "num_sims = 10\n",
    "for i in range(num_sims):\n",
    "    option_stats = get_random_option('AAPL')\n",
    "    r = 0.06 # Risk-free rate taken from US treasury bonds \n",
    "    sigma = option_stats[0]\n",
    "    mu = option_stats[1]\n",
    "    seed = None\n",
    "    S0 = option_stats[2] #Initial Stock Price\n",
    "    K = option_stats[3]  #Strike Price\n",
    "    T = option_stats[4]    #Time to Maturity in Years\n",
    "    N = 5   #Number of Time Steps\n",
    "    u = 1.1  #up-factor in binomial model\n",
    "    d = 1/u  #down-factor in binomial model\n",
    "    optiontype = 'P' #Choose 'C' for call & 'P' for Put\n",
    "    num_paths = 6\n",
    "    sim_prices.append(matrices(r, sigma, mu, seed, S0, K, T, N, u, d, optiontype, num_paths))\n",
    "    real_prices.append(option_stats[5])\n"
   ]
  },
  {
   "cell_type": "code",
   "execution_count": 265,
   "metadata": {},
   "outputs": [
    {
     "data": {
      "image/png": "[encoded data removed]",
      "text/plain": [
       "<Figure size 640x480 with 1 Axes>"
      ]
     },
     "metadata": {},
     "output_type": "display_data"
    }
   ],
   "source": [
    "x_values = np.arange(len(sim_prices))\n",
    "\n",
    "# Plot the first set of points\n",
    "plt.scatter(x_values, sim_prices, label='Simulated Put Price', marker='o', color='blue')\n",
    "\n",
    "# Plot the second set of points\n",
    "plt.scatter(x_values, real_prices, label='Real Put Price', marker='x', color='red')\n",
    "plt.grid(True, linestyle='--', alpha=0.7, which = 'major', axis='x')\n",
    "plt.grid(True, linestyle='--', alpha=0.7, which = 'minor', axis='x')\n",
    "plt.gca().xaxis.set_minor_locator(plt.MultipleLocator(1))\n",
    "# Add labels and title\n",
    "plt.xlabel('Index')\n",
    "plt.ylabel('Put Price')\n",
    "plt.title('Simulated Put Prices vs Real')\n",
    "\n",
    "# Add a legend\n",
    "plt.legend(loc = 'upper left')\n",
    "\n",
    "# Show the plot\n",
    "plt.show()"
   ]
  },
  {
   "cell_type": "code",
   "execution_count": 210,
   "metadata": {},
   "outputs": [],
   "source": [
    "#Generates a brownian Motion Matrix W and a Stock Price Matrix X with each row representing \n",
    "# a stock price path starting at the initial S0 above\n",
    "\n",
    "X = np.zeros((num_paths, N))\n",
    "W = np.zeros((num_paths, N))\n",
    "\n",
    "np.random.seed(seed)\n",
    "dt = T / N\n",
    "t = np.linspace(0, T, N)\n",
    "\n",
    "for path in range(num_paths):\n",
    "    # Generate random samples from a normal distribution\n",
    "    random_samples = np.random.normal(size=N)\n",
    "    \n",
    "    # Scale the random samples by the square root of the time step\n",
    "    scaled_samples = np.sqrt(dt) * random_samples\n",
    "    \n",
    "    # Cumulatively sum the scaled samples to simulate Brownian motion\n",
    "    W[path,:] = np.cumsum(scaled_samples)\n",
    "    X[path,:] = S0*np.exp((mu - 0.5 * sigma**2) * t + sigma * W[path,:])\n",
    "X[:,0] = S0\n"
   ]
  },
  {
   "cell_type": "code",
   "execution_count": 211,
   "metadata": {},
   "outputs": [
    {
     "data": {
      "text/plain": [
       "array([[193.41999817, 188.10593091, 184.14376638, 189.58857693,\n",
       "        194.89932881],\n",
       "       [193.41999817, 189.07929408, 186.22390961, 185.15942026,\n",
       "        181.49454565],\n",
       "       [193.41999817, 205.5018126 , 197.40422417, 193.761864  ,\n",
       "        192.87055669],\n",
       "       [193.41999817, 204.39643292, 209.18773947, 221.75600205,\n",
       "        214.51185598],\n",
       "       [193.41999817, 198.89740854, 202.09466101, 208.4718093 ,\n",
       "        206.61987234],\n",
       "       [193.41999817, 194.37351572, 195.09909903, 186.10729368,\n",
       "        193.71177495]])"
      ]
     },
     "execution_count": 211,
     "metadata": {},
     "output_type": "execute_result"
    }
   ],
   "source": [
    "#Visualization of stock price paths in the matrix, can be adjusted properly\n",
    "X"
   ]
  },
  {
   "cell_type": "code",
   "execution_count": 212,
   "metadata": {},
   "outputs": [
    {
     "data": {
      "text/plain": [
       "array([194.89932881, 181.49454565, 192.87055669, 214.51185598,\n",
       "       206.61987234, 193.71177495])"
      ]
     },
     "execution_count": 212,
     "metadata": {},
     "output_type": "execute_result"
    }
   ],
   "source": [
    "stock_end = X[:, -1]\n",
    "stock_end"
   ]
  },
  {
   "cell_type": "code",
   "execution_count": 213,
   "metadata": {},
   "outputs": [
    {
     "data": {
      "text/plain": [
       "array([[16.89406909, 20.85623362, 15.41142307, 10.10067119],\n",
       "       [15.92070592, 18.77609039, 19.84057974, 23.50545435],\n",
       "       [ 0.        ,  7.59577583, 11.238136  , 12.12944331],\n",
       "       [ 0.60356708,  0.        ,  0.        ,  0.        ],\n",
       "       [ 6.10259146,  2.90533899,  0.        ,  0.        ],\n",
       "       [10.62648428,  9.90090097, 18.89270632, 11.28822505]])"
      ]
     },
     "execution_count": 213,
     "metadata": {},
     "output_type": "execute_result"
    }
   ],
   "source": [
    "#determines the payoff at all times except the first time, this may have to be adjusted\n",
    "# to include the first time as well in case the strike price changes\n",
    "for i in range(0,N):\n",
    "    payoffS = np.maximum(K-X,0)\n",
    "payoffS = payoffS[:, 1:]\n",
    "payoffS"
   ]
  },
  {
   "cell_type": "code",
   "execution_count": 214,
   "metadata": {},
   "outputs": [
    {
     "data": {
      "text/plain": [
       "array([10.10067119, 23.50545435, 12.12944331,  0.        ,  0.        ,\n",
       "       11.28822505])"
      ]
     },
     "execution_count": 214,
     "metadata": {},
     "output_type": "execute_result"
    }
   ],
   "source": [
    "value_end = np.maximum(K-stock_end,0)\n",
    "value_end"
   ]
  },
  {
   "cell_type": "code",
   "execution_count": 215,
   "metadata": {},
   "outputs": [
    {
     "name": "stderr",
     "output_type": "stream",
     "text": [
      "C:\\Users\\stefa\\AppData\\Local\\Temp\\ipykernel_45956\\179497120.py:20: RuntimeWarning: invalid value encountered in divide\n",
      "  prob /= np.sum(prob)\n"
     ]
    }
   ],
   "source": [
    "\n",
    "\n",
    "# Calculate time step\n",
    "dt = T / N\n",
    "\n",
    "# Initialize a list to store matrices for each time step\n",
    "probability_matrices = []\n",
    "\n",
    "# Calculate conditional probabilities for each time step\n",
    "for j in range(N-2, -1, -1):\n",
    "    probability_matrix = np.zeros((num_paths, num_paths))\n",
    "\n",
    "    for k in range(num_paths):\n",
    "        # Calculate the conditional probability using the log-normal distribution\n",
    "        mu_conditional = np.log(X[:, j+1] / X[k, j]) / dt - 0.5 * sigma**2\n",
    "        sigma_conditional = sigma * np.sqrt(dt)\n",
    "\n",
    "        # Calculate the probability using the log-normal distribution formula\n",
    "        prob = scipy.stats.norm.pdf(np.log(X[:, j+1] / X[k, j]), loc=mu_conditional, scale=sigma_conditional)\n",
    "\n",
    "        # Normalize the probabilities to sum to 1\n",
    "        prob /= np.sum(prob)\n",
    "\n",
    "        # Store the probability in the matrix\n",
    "        probability_matrix[k, :] = prob\n",
    "\n",
    "    # Append the probability matrix for the current time step to the list\n",
    "    probability_matrices.append(probability_matrix)\n",
    "\n",
    "# Now, probability_matrices[j] represents the matrix of probabilities for time step j\n"
   ]
  },
  {
   "cell_type": "code",
   "execution_count": 216,
   "metadata": {},
   "outputs": [
    {
     "data": {
      "text/plain": [
       "array([[16.89406909, 20.85623362, 15.41142307, 10.10067119],\n",
       "       [15.92070592, 18.77609039, 19.84057974, 23.50545435],\n",
       "       [ 0.        ,  7.59577583, 11.238136  , 12.12944331],\n",
       "       [ 0.60356708,  0.        ,  0.        ,  0.        ],\n",
       "       [ 6.10259146,  2.90533899,  0.        ,  0.        ],\n",
       "       [10.62648428,  9.90090097, 18.89270632, 11.28822505]])"
      ]
     },
     "execution_count": 216,
     "metadata": {},
     "output_type": "execute_result"
    }
   ],
   "source": [
    "payoffS"
   ]
  },
  {
   "cell_type": "code",
   "execution_count": 217,
   "metadata": {},
   "outputs": [
    {
     "data": {
      "text/plain": [
       "[array([[0.00000000e+00, 0.00000000e+00, 1.00000000e+00, 0.00000000e+00,\n",
       "         0.00000000e+00, 0.00000000e+00],\n",
       "        [           nan,            nan,            nan,            nan,\n",
       "                    nan,            nan],\n",
       "        [3.18980406e-30, 0.00000000e+00, 1.89573106e-25, 0.00000000e+00,\n",
       "         0.00000000e+00, 1.00000000e+00],\n",
       "        [           nan,            nan,            nan,            nan,\n",
       "                    nan,            nan],\n",
       "        [0.00000000e+00, 0.00000000e+00, 0.00000000e+00, 0.00000000e+00,\n",
       "         1.00000000e+00, 0.00000000e+00],\n",
       "        [           nan,            nan,            nan,            nan,\n",
       "                    nan,            nan]]),\n",
       " array([[0.00000000e+000, 1.00000000e+000, 0.00000000e+000,\n",
       "         0.00000000e+000, 0.00000000e+000, 2.88681902e-079],\n",
       "        [1.27796123e-307, 2.26877495e-037, 0.00000000e+000,\n",
       "         0.00000000e+000, 0.00000000e+000, 1.00000000e+000],\n",
       "        [            nan,             nan,             nan,\n",
       "                     nan,             nan,             nan],\n",
       "        [0.00000000e+000, 0.00000000e+000, 0.00000000e+000,\n",
       "         0.00000000e+000, 1.00000000e+000, 0.00000000e+000],\n",
       "        [            nan,             nan,             nan,\n",
       "                     nan,             nan,             nan],\n",
       "        [0.00000000e+000, 0.00000000e+000, 1.00000000e+000,\n",
       "         0.00000000e+000, 0.00000000e+000, 0.00000000e+000]]),\n",
       " array([[0.00000000e+000, 1.00000000e+000, 0.00000000e+000,\n",
       "         0.00000000e+000, 0.00000000e+000, 0.00000000e+000],\n",
       "        [0.00000000e+000, 1.00000000e+000, 0.00000000e+000,\n",
       "         0.00000000e+000, 0.00000000e+000, 0.00000000e+000],\n",
       "        [0.00000000e+000, 0.00000000e+000, 0.00000000e+000,\n",
       "         4.31901476e-010, 1.00000000e+000, 0.00000000e+000],\n",
       "        [0.00000000e+000, 0.00000000e+000, 0.00000000e+000,\n",
       "         0.00000000e+000, 1.00000000e+000, 0.00000000e+000],\n",
       "        [0.00000000e+000, 0.00000000e+000, 1.00000000e+000,\n",
       "         0.00000000e+000, 1.80334428e-180, 0.00000000e+000],\n",
       "        [0.00000000e+000, 0.00000000e+000, 7.56673386e-218,\n",
       "         0.00000000e+000, 0.00000000e+000, 1.00000000e+000]]),\n",
       " array([[0., 0., 0., 0., 0., 1.],\n",
       "        [0., 0., 0., 0., 0., 1.],\n",
       "        [0., 0., 0., 0., 0., 1.],\n",
       "        [0., 0., 0., 0., 0., 1.],\n",
       "        [0., 0., 0., 0., 0., 1.],\n",
       "        [0., 0., 0., 0., 0., 1.]])]"
      ]
     },
     "execution_count": 217,
     "metadata": {},
     "output_type": "execute_result"
    }
   ],
   "source": [
    "#Organized such that the first row of any matrix is the transition probabilities from the top node,\n",
    "# to all nodes in the next time step, and then goes down the column of nodes repeating process for each row\n",
    "#matrix 0 in list corresponds to time step J-1\n",
    "probability_matrices"
   ]
  },
  {
   "cell_type": "code",
   "execution_count": 218,
   "metadata": {},
   "outputs": [
    {
     "name": "stdout",
     "output_type": "stream",
     "text": [
      "5\n"
     ]
    }
   ],
   "source": [
    "print(N)"
   ]
  },
  {
   "cell_type": "code",
   "execution_count": 219,
   "metadata": {},
   "outputs": [
    {
     "name": "stdout",
     "output_type": "stream",
     "text": [
      "12.141404303571488 k= 0 i= 0 j= 3\n",
      "nan k= 0 i= 1 j= 3\n",
      "11.29935651093563 k= 0 i= 2 j= 3\n",
      "nan k= 0 i= 3 j= 3\n",
      "0.0 k= 0 i= 4 j= 3\n",
      "nan k= 0 i= 5 j= 3\n",
      "19.860144778759462 k= 1 i= 0 j= 2\n",
      "18.911336645711064 k= 1 i= 1 j= 2\n",
      "nan k= 1 i= 2 j= 2\n",
      "0.0 k= 1 i= 3 j= 2\n",
      "nan k= 1 i= 4 j= 2\n",
      "11.24921806679897 k= 1 i= 5 j= 2\n",
      "18.794605725850317 k= 2 i= 0 j= 1\n",
      "18.794605725850317 k= 2 i= 1 j= 1\n",
      "2.9082039746991715 k= 2 i= 2 j= 1\n",
      "2.9082039759552285 k= 2 i= 3 j= 1\n",
      "7.603266113086059 k= 2 i= 4 j= 1\n",
      "9.910664372070219 k= 2 i= 5 j= 1\n",
      "10.636963183269039 k= 3 i= 0 j= 0\n",
      "10.636963183269039 k= 3 i= 1 j= 0\n",
      "10.636963183269039 k= 3 i= 2 j= 0\n",
      "10.636963183269039 k= 3 i= 3 j= 0\n",
      "10.636963183269039 k= 3 i= 4 j= 0\n",
      "10.636963183269039 k= 3 i= 5 j= 0\n"
     ]
    }
   ],
   "source": [
    "#multiplies the first through third row of each matrix by payoff of the corresponding time \n",
    "#ex: in matrix 1, the first row will be multiplied by the last row of the payoff matrix\n",
    "#these will then be added up and put in the top right of the continuation matrix (2,2), \n",
    "# this is based on how I calculated the probabilites earlier with matrix 1 corresponding to the probabilities for time j to j+1\n",
    "\n",
    "k = 0\n",
    "cont_matrix = np.zeros((num_paths,N-1))\n",
    "for j in range(N-2,-1,-1):\n",
    "    for i in range(num_paths):\n",
    "        cont_matrix[i][j] = np.dot(probability_matrices[k][i,:],payoffS[:,j])*np.exp(r*dt)\n",
    "        print(cont_matrix[i][j], 'k=', k, \"i=\", i, 'j=', j)\n",
    "    k+=1"
   ]
  },
  {
   "cell_type": "code",
   "execution_count": 220,
   "metadata": {},
   "outputs": [
    {
     "data": {
      "text/plain": [
       "array([[10.63696318, 18.79460573, 19.86014478, 12.1414043 ],\n",
       "       [10.63696318, 18.79460573, 18.91133665,         nan],\n",
       "       [10.63696318,  2.90820397,         nan, 11.29935651],\n",
       "       [10.63696318,  2.90820398,  0.        ,         nan],\n",
       "       [10.63696318,  7.60326611,         nan,  0.        ],\n",
       "       [10.63696318,  9.91066437, 11.24921807,         nan]])"
      ]
     },
     "execution_count": 220,
     "metadata": {},
     "output_type": "execute_result"
    }
   ],
   "source": [
    "cont_matrix"
   ]
  },
  {
   "cell_type": "code",
   "execution_count": 221,
   "metadata": {},
   "outputs": [
    {
     "data": {
      "text/plain": [
       "array([[16.89406909, 20.85623362, 19.86014478, 12.1414043 ],\n",
       "       [15.92070592, 18.79460573, 19.84057974,         nan],\n",
       "       [10.63696318,  7.59577583,         nan, 12.12944331],\n",
       "       [10.63696318,  2.90820398,  0.        ,         nan],\n",
       "       [10.63696318,  7.60326611,         nan,  0.        ],\n",
       "       [10.63696318,  9.91066437, 18.89270632,         nan]])"
      ]
     },
     "execution_count": 221,
     "metadata": {},
     "output_type": "execute_result"
    }
   ],
   "source": [
    "#take max of the continuation value and current payoff (missing e^-rdt factor)\n",
    "max_value = np.maximum(cont_matrix,payoffS)\n",
    "max_value"
   ]
  },
  {
   "cell_type": "code",
   "execution_count": 225,
   "metadata": {},
   "outputs": [
    {
     "data": {
      "text/plain": [
       "15.072525548994872"
      ]
     },
     "execution_count": 225,
     "metadata": {},
     "output_type": "execute_result"
    }
   ],
   "source": [
    "#after the above process which goes backwards through the paths, we should have a final price value by discounting the expectations at time 1 I believe.\n",
    "\n",
    "price = sum(1/N*max_value[:,0])\n",
    "price "
   ]
  },
  {
   "cell_type": "code",
   "execution_count": 226,
   "metadata": {},
   "outputs": [
    {
     "name": "stdout",
     "output_type": "stream",
     "text": [
      "15.072525548994872  vs  11.68\n"
     ]
    }
   ],
   "source": [
    "print(price, \" vs \", option_stats[5])"
   ]
  }
 ],
 "metadata": {
  "kernelspec": {
   "display_name": "Python 3",
   "language": "python",
   "name": "python3"
  },
  "language_info": {
   "codemirror_mode": {
    "name": "ipython",
    "version": 3
   },
   "file_extension": ".py",
   "mimetype": "text/x-python",
   "name": "python",
   "nbconvert_exporter": "python",
   "pygments_lexer": "ipython3",
   "version": "3.11.5"
  }
 },
 "nbformat": 4,
 "nbformat_minor": 4
}
