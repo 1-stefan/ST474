{
 "cells": [
  {
   "cell_type": "code",
   "execution_count": 348,
   "metadata": {},
   "outputs": [],
   "source": [
    "import yfinance as yf\n",
    "import pandas as pd\n",
    "import numpy as np\n",
    "import matplotlib.pyplot as plt\n",
    "import seaborn as sns\n",
    "import sklearn as sk\n",
    "import statsmodels.api as sm\n",
    "from datetime import datetime as dt\n",
    "from dateutil.relativedelta import relativedelta as rd\n",
    "import schedule\n",
    "from sklearn.linear_model import LinearRegression\n",
    "from scipy import stats\n",
    "import scipy.stats\n",
    "import random\n",
    "from datetime import datetime, timedelta"
   ]
  },
  {
   "cell_type": "code",
   "execution_count": 400,
   "metadata": {},
   "outputs": [],
   "source": [
    "#function for testing the time it takes for another function to run\n",
    "\n",
    "from functools import wraps\n",
    "from time import time\n",
    "\n",
    "def timing(f):\n",
    "    @wraps(f)\n",
    "    def wrap(*args,**kw):\n",
    "        tstart = time()\n",
    "        result = f(*args,**kw)\n",
    "        tend = time()\n",
    "        print('func:%r args: [%r,%r] took: %2.4f sec' % \\\n",
    "              (f.__name__,args,kw,tend-tstart))\n",
    "        return result\n",
    "    return wrap\n",
    "        \n",
    "        \n",
    "    "
   ]
  },
  {
   "cell_type": "code",
   "execution_count": 401,
   "metadata": {},
   "outputs": [
    {
     "name": "stdout",
     "output_type": "stream",
     "text": [
      "func:'get_random_option' args: [('AAPL',),{}] took: 2.1334 sec\n"
     ]
    },
    {
     "data": {
      "text/plain": [
       "(0.21683006535610344,\n",
       " 0.342569775499747,\n",
       " 192.32000732421875,\n",
       " 280.0,\n",
       " 0.08213552361396304,\n",
       " 105.25)"
      ]
     },
     "execution_count": 401,
     "metadata": {},
     "output_type": "execute_result"
    }
   ],
   "source": [
    "@timing\n",
    "def get_random_option(ticker):\n",
    "    stock = yf.Ticker(ticker)\n",
    "    historical_data = stock.history(period=\"1y\")\n",
    "    sigma = historical_data[\"Close\"].pct_change().std() * (252 ** 0.5)\n",
    "    mu = historical_data[\"Close\"].pct_change().mean()*252\n",
    "    expirations = stock.options\n",
    "    selected_expiration = random.choice(expirations)\n",
    "    \n",
    "    options_chain = stock.option_chain(selected_expiration)\n",
    "    \n",
    "    # Filter for in-the-money (ITM) options\n",
    "    itm_options = [option for option in options_chain.puts.to_dict(orient=\"records\") if option['inTheMoney']]\n",
    "    \n",
    "    # Ensure there are ITM options available\n",
    "    if not itm_options:\n",
    "        print(\"No in-the-money options available for the selected expiration.\")\n",
    "        return\n",
    "    \n",
    "    # Get random ITM put option from the options chain\n",
    "    random_put_option = random.choice(itm_options)\n",
    "    K = random_put_option['strike']\n",
    "    option_price = random_put_option['lastPrice']\n",
    "    S0 = stock.history(period=\"1d\")[\"Close\"][-1]\n",
    "    maturity_date = datetime.now() + timedelta(days=30)\n",
    "    T = (maturity_date - datetime.now()).days / 365.25\n",
    "    return sigma, mu, S0, K, T, option_price\n",
    "\n",
    "option_stats = get_random_option('AAPL')\n",
    "option_stats"
   ]
  },
  {
   "cell_type": "code",
   "execution_count": 402,
   "metadata": {},
   "outputs": [
    {
     "name": "stdout",
     "output_type": "stream",
     "text": [
      "0.21683006535610344 0.342569775499747 192.32000732421875 280.0 0.08213552361396304\n"
     ]
    }
   ],
   "source": [
    "#Inputs\n",
    "r = 0.06 # Risk-free rate taken from US treasury bonds \n",
    "#sigma = 0.2\n",
    "#mu = 0.06\n",
    "#seed = None\n",
    "#S0 = 100 #Initial Stock Price\n",
    "#K = 100  #Strike Price\n",
    "#T = 1    #Time to Maturity in Years\n",
    "sigma = option_stats[0]\n",
    "mu = option_stats[1]\n",
    "seed = None\n",
    "S0 = option_stats[2] #Initial Stock Price\n",
    "K = option_stats[3]  #Strike Price\n",
    "T = option_stats[4]    #Time to Maturity in Years\n",
    "N = 5   #Number of Time Steps\n",
    "u = 1.1  #up-factor in binomial model\n",
    "d = 1/u  #down-factor in binomial model\n",
    "optiontype = 'P' #Choose 'C' for call & 'P' for Put\n",
    "num_paths = N\n",
    "print(sigma, mu, S0, K, T)"
   ]
  },
  {
   "cell_type": "code",
   "execution_count": 403,
   "metadata": {},
   "outputs": [],
   "source": [
    "@timing\n",
    "def gbm_stock_price(S0, mu, sigma, T, N, seed=None):\n",
    "    np.random.seed(seed)\n",
    "    dt = T / N\n",
    "    t = np.linspace(0, T, N+1)\n",
    "    W = np.random.standard_normal(size=N+1) \n",
    "    W = np.cumsum(W) * np.sqrt(dt)  # Brownian motion\n",
    "    X = (r - 0.5 * sigma**2) * t + sigma * W  # GBM process\n",
    "    S = S0 * np.exp(X)  # Stock price process\n",
    "    S[0] = S0\n",
    "    return S"
   ]
  },
  {
   "cell_type": "code",
   "execution_count": 404,
   "metadata": {},
   "outputs": [
    {
     "data": {
      "text/plain": [
       "90.36010968033938"
      ]
     },
     "execution_count": 404,
     "metadata": {},
     "output_type": "execute_result"
    }
   ],
   "source": [
    "def matrices(r, sigma, mu, seed, S0, K, T, N, u, d, optiontype, num_paths):\n",
    "    payoffs = np.zeros((num_paths, N))\n",
    "    X = np.zeros((num_paths, N))\n",
    "    W = np.zeros((num_paths, N))\n",
    "    np.random.seed(seed)\n",
    "    dt = T / N\n",
    "    t = np.linspace(0, T, N)\n",
    "    for path in range(num_paths):\n",
    "        # Generate random samples from a normal distribution\n",
    "        random_samples = np.random.normal(size=N)\n",
    "        \n",
    "        # Scale the random samples by the square root of the time step\n",
    "        scaled_samples = np.sqrt(dt) * random_samples\n",
    "        \n",
    "        # Cumulatively sum the scaled samples to simulate Brownian motion\n",
    "        W[path,:] = np.cumsum(scaled_samples)\n",
    "        X[path,:] = S0*np.exp((mu - 0.5 * sigma**2) * t + sigma * W[path,:]) \n",
    "    X[:,0] = S0\n",
    "    stock_end = X[:, -1]\n",
    "    for i in range(0,N):\n",
    "        payoffS = np.maximum(K-X,0)\n",
    "    payoffS = payoffS[:, 1:]\n",
    "    value_end = np.maximum(K-stock_end,0)\n",
    "    dt = T / N\n",
    "    probability_matrices = []\n",
    "    for j in range(N-2, -1, -1):\n",
    "        probability_matrix = np.zeros((num_paths, num_paths))\n",
    "        for k in range(num_paths):\n",
    "            if(X[k,j] == 0):\n",
    "                probability_matrix[k, :] = 0\n",
    "            else:\n",
    "                mu_conditional = np.log(X[:, j+1] / X[k, j]) / dt - 0.5 * sigma**2\n",
    "                sigma_conditional = sigma * np.sqrt(dt)\n",
    "                prob = scipy.stats.norm.pdf(np.log(X[:, j+1] / X[k, j]), loc=mu_conditional, scale=sigma_conditional)\n",
    "                if np.sum(prob) == 0:\n",
    "                    prob = 0\n",
    "                else:\n",
    "                    prob /= np.sum(prob)\n",
    "                probability_matrix[k, :] = prob\n",
    "        probability_matrices.append(probability_matrix)\n",
    "    k = 0\n",
    "    cont_matrix = np.zeros((num_paths,N-1))\n",
    "    for j in range(N-2,-1,-1):\n",
    "        for i in range(num_paths):\n",
    "            cont_matrix[i][j] = np.dot(probability_matrices[k][i,:],payoffS[:,j])*np.exp(r*dt)\n",
    "        k+=1\n",
    "    max_value = np.maximum(cont_matrix,payoffS)\n",
    "    price = sum(1/N*max_value[:,0])\n",
    "    \n",
    "    return price#payoffs, probability_matrices, X, cont_matrix, max_value\n",
    "\n",
    "matrices(r, sigma, mu, seed, S0, K, T, N, u, d, optiontype, num_paths)"
   ]
  },
  {
   "cell_type": "code",
   "execution_count": 409,
   "metadata": {},
   "outputs": [
    {
     "name": "stdout",
     "output_type": "stream",
     "text": [
      "func:'get_random_option' args: [('AAPL',),{}] took: 2.1456 sec\n",
      "func:'get_random_option' args: [('AAPL',),{}] took: 1.9052 sec\n",
      "func:'get_random_option' args: [('AAPL',),{}] took: 2.1046 sec\n",
      "func:'get_random_option' args: [('AAPL',),{}] took: 1.9432 sec\n",
      "func:'get_random_option' args: [('AAPL',),{}] took: 1.9551 sec\n",
      "func:'get_random_option' args: [('AAPL',),{}] took: 1.8518 sec\n",
      "func:'get_random_option' args: [('AAPL',),{}] took: 1.9337 sec\n",
      "func:'get_random_option' args: [('AAPL',),{}] took: 2.4885 sec\n",
      "func:'get_random_option' args: [('AAPL',),{}] took: 2.1070 sec\n",
      "func:'get_random_option' args: [('AAPL',),{}] took: 1.8544 sec\n",
      "func:'get_random_option' args: [('AAPL',),{}] took: 2.0224 sec\n",
      "func:'get_random_option' args: [('AAPL',),{}] took: 2.0201 sec\n",
      "func:'get_random_option' args: [('AAPL',),{}] took: 1.9589 sec\n",
      "func:'get_random_option' args: [('AAPL',),{}] took: 1.8998 sec\n",
      "func:'get_random_option' args: [('AAPL',),{}] took: 1.9263 sec\n",
      "func:'get_random_option' args: [('AAPL',),{}] took: 1.9837 sec\n",
      "func:'get_random_option' args: [('AAPL',),{}] took: 2.1256 sec\n",
      "func:'get_random_option' args: [('AAPL',),{}] took: 1.9297 sec\n",
      "func:'get_random_option' args: [('AAPL',),{}] took: 1.9121 sec\n",
      "func:'get_random_option' args: [('AAPL',),{}] took: 2.0395 sec\n",
      "func:'get_random_option' args: [('AAPL',),{}] took: 1.7866 sec\n",
      "func:'get_random_option' args: [('AAPL',),{}] took: 1.9468 sec\n",
      "func:'get_random_option' args: [('AAPL',),{}] took: 1.8410 sec\n",
      "func:'get_random_option' args: [('AAPL',),{}] took: 1.8759 sec\n",
      "func:'get_random_option' args: [('AAPL',),{}] took: 1.9099 sec\n",
      "func:'sim_vs_real' args: [(25,),{}] took: 49.5245 sec\n"
     ]
    }
   ],
   "source": [
    "sim_prices = []\n",
    "real_prices = []\n",
    "option_stats = []\n",
    "timings = []\n",
    "num_sims = 25\n",
    "@timing\n",
    "def sim_vs_real(num_sims):\n",
    "    for i in range(num_sims):\n",
    "        option_stats = get_random_option('AAPL')\n",
    "        r = 0.06 # Risk-free rate taken from US treasury bonds \n",
    "        sigma = option_stats[0]\n",
    "        mu = option_stats[1]\n",
    "        seed = None\n",
    "        S0 = option_stats[2] #Initial Stock Price\n",
    "        K = option_stats[3]  #Strike Price\n",
    "        T = option_stats[4]    #Time to Maturity in Years\n",
    "        N = 5   #Number of Time Steps\n",
    "        u = 1.1  #up-factor in binomial model\n",
    "        d = 1/u  #down-factor in binomial model\n",
    "        optiontype = 'P' #Choose 'C' for call & 'P' for Put\n",
    "        num_paths = 6\n",
    "        sim_prices.append(matrices(r, sigma, mu, seed, S0, K, T, N, u, d, optiontype, num_paths))\n",
    "        real_prices.append(option_stats[5])\n",
    "\n",
    "sim_vs_real(num_sims)"
   ]
  },
  {
   "cell_type": "code",
   "execution_count": 410,
   "metadata": {},
   "outputs": [
    {
     "name": "stdout",
     "output_type": "stream",
     "text": [
      "Prediction Error with 5 time steps:$ 0.8913039651924762\n"
     ]
    }
   ],
   "source": [
    "def prediction_error(sim_prices, real_prices):\n",
    "    sim_prices = np.array(sim_prices)\n",
    "    real_prices = np.array(real_prices)\n",
    "    nan_indices = np.isnan(sim_prices)\n",
    "    sim_prices = sim_prices[~nan_indices]\n",
    "    real_prices = real_prices[~nan_indices]\n",
    "    differences = np.abs(np.array(real_prices) - np.array(sim_prices))\n",
    "    std_deviation = np.std(differences, ddof=1)  # ddof=1 for sample standard deviation\n",
    "    standard_error = std_deviation / np.sqrt(len(real_prices))\n",
    "    return standard_error\n",
    "print('Prediction Error with 5 time steps:$', prediction_error(sim_prices, real_prices))"
   ]
  },
  {
   "cell_type": "code",
   "execution_count": 411,
   "metadata": {},
   "outputs": [
    {
     "data": {
      "image/png": "[encoded data removed]",
      "text/plain": [
       "<Figure size 640x480 with 1 Axes>"
      ]
     },
     "metadata": {},
     "output_type": "display_data"
    }
   ],
   "source": [
    "x_values = np.arange(len(sim_prices))\n",
    "\n",
    "# Plot the first set of points\n",
    "plt.scatter(x_values, sim_prices, label='Simulated Put Price', marker='o', color='blue')\n",
    "\n",
    "# Plot the second set of points\n",
    "plt.scatter(x_values, real_prices, label='Real Put Price', marker='x', color='red')\n",
    "plt.grid(True, linestyle='--', alpha=0.7, which = 'major', axis='x')\n",
    "plt.grid(True, linestyle='--', alpha=0.7, which = 'minor', axis='x')\n",
    "plt.gca().xaxis.set_minor_locator(plt.MultipleLocator(1))\n",
    "# Add labels and title\n",
    "plt.xlabel('Index')\n",
    "plt.ylabel('Put Price')\n",
    "plt.title('AAPL Simulated vs Real 5 Steps 25 Sims')\n",
    "\n",
    "# Add a legend\n",
    "plt.legend(loc = 'upper left')\n",
    "\n",
    "# Show the plot\n",
    "plt.show()"
   ]
  },
  {
   "cell_type": "code",
   "execution_count": 290,
   "metadata": {},
   "outputs": [
    {
     "data": {
      "text/plain": [
       "2.0053116660728585"
      ]
     },
     "execution_count": 290,
     "metadata": {},
     "output_type": "execute_result"
    }
   ],
   "source": [
    "\n"
   ]
  },
  {
   "cell_type": "code",
   "execution_count": 287,
   "metadata": {},
   "outputs": [
    {
     "name": "stdout",
     "output_type": "stream",
     "text": [
      "Array1 without NaN: [1. 2. 4. 5.]\n",
      "Array2 without corresponding NaN values: [10. 20. 40. 50.]\n"
     ]
    }
   ],
   "source": [
    "def drop_nan_indices(array1, array2):\n",
    "    # Find indices with NaN values in array1\n",
    "    nan_indices = np.isnan(array1)\n",
    "\n",
    "    # Drop NaN values from array1\n",
    "    array1_without_nan = array1[~nan_indices]\n",
    "\n",
    "    # Drop corresponding values from array2\n",
    "    array2_without_nan = array2[~nan_indices]\n",
    "\n",
    "    return array1_without_nan, array2_without_nan\n",
    "\n",
    "# Example usage\n",
    "array1 = np.array([1.0, 2.0, np.nan, 4.0, 5.0])\n",
    "array2 = np.array([10.0, 20.0, 30.0, 40.0, 50.0])\n",
    "\n",
    "array1_without_nan, array2_without_nan = drop_nan_indices(array1, array2)\n",
    "\n",
    "print(\"Array1 without NaN:\", array1_without_nan)\n",
    "print(\"Array2 without corresponding NaN values:\", array2_without_nan)"
   ]
  },
  {
   "cell_type": "code",
   "execution_count": 340,
   "metadata": {},
   "outputs": [],
   "source": [
    "#Generates a brownian Motion Matrix W and a Stock Price Matrix X with each row representing \n",
    "# a stock price path starting at the initial S0 above\n",
    "\n",
    "X = np.zeros((num_paths, N))\n",
    "W = np.zeros((num_paths, N))\n",
    "\n",
    "np.random.seed(seed)\n",
    "dt = T / N\n",
    "t = np.linspace(0, T, N)\n",
    "\n",
    "for path in range(num_paths):\n",
    "    # Generate random samples from a normal distribution\n",
    "    random_samples = np.random.normal(size=N)\n",
    "    \n",
    "    # Scale the random samples by the square root of the time step\n",
    "    scaled_samples = np.sqrt(dt) * random_samples\n",
    "    \n",
    "    # Cumulatively sum the scaled samples to simulate Brownian motion\n",
    "    W[path,:] = np.cumsum(scaled_samples)\n",
    "    X[path,:] = S0*np.exp((mu - 0.5 * sigma**2) * t + sigma * W[path,:])\n",
    "X[:,0] = S0\n"
   ]
  },
  {
   "cell_type": "code",
   "execution_count": 341,
   "metadata": {},
   "outputs": [
    {
     "data": {
      "text/plain": [
       "array([[192.32000732, 197.71267784, 196.99281335, 194.27534528,\n",
       "        194.96996742, 193.64512233, 200.69338094],\n",
       "       [192.32000732, 185.68857912, 182.22221383, 179.87313482,\n",
       "        175.32269002, 179.39964138, 176.73803288],\n",
       "       [192.32000732, 196.96445867, 191.94900343, 184.51844572,\n",
       "        195.73524668, 201.99447874, 207.87929591],\n",
       "       [192.32000732, 197.28293179, 199.97286814, 194.36262879,\n",
       "        204.22439074, 202.35967457, 207.57414187],\n",
       "       [192.32000732, 191.22743885, 199.69626509, 195.39737972,\n",
       "        193.9478804 , 196.84554981, 194.31067099],\n",
       "       [192.32000732, 204.36378159, 209.01726115, 204.0688438 ,\n",
       "        201.54016681, 196.16335178, 199.84806487],\n",
       "       [192.32000732, 200.31683443, 196.68755947, 185.48867681,\n",
       "        183.32244111, 182.83708603, 184.64667952]])"
      ]
     },
     "execution_count": 341,
     "metadata": {},
     "output_type": "execute_result"
    }
   ],
   "source": [
    "#Visualization of stock price paths in the matrix, can be adjusted properly\n",
    "X"
   ]
  },
  {
   "cell_type": "code",
   "execution_count": 342,
   "metadata": {},
   "outputs": [
    {
     "data": {
      "text/plain": [
       "array([200.69338094, 176.73803288, 207.87929591, 207.57414187,\n",
       "       194.31067099, 199.84806487, 184.64667952])"
      ]
     },
     "execution_count": 342,
     "metadata": {},
     "output_type": "execute_result"
    }
   ],
   "source": [
    "stock_end = X[:, -1]\n",
    "stock_end"
   ]
  },
  {
   "cell_type": "code",
   "execution_count": 343,
   "metadata": {},
   "outputs": [
    {
     "data": {
      "text/plain": [
       "array([[37.28732216, 38.00718665, 40.72465472, 40.03003258, 41.35487767,\n",
       "        34.30661906],\n",
       "       [49.31142088, 52.77778617, 55.12686518, 59.67730998, 55.60035862,\n",
       "        58.26196712],\n",
       "       [38.03554133, 43.05099657, 50.48155428, 39.26475332, 33.00552126,\n",
       "        27.12070409],\n",
       "       [37.71706821, 35.02713186, 40.63737121, 30.77560926, 32.64032543,\n",
       "        27.42585813],\n",
       "       [43.77256115, 35.30373491, 39.60262028, 41.0521196 , 38.15445019,\n",
       "        40.68932901],\n",
       "       [30.63621841, 25.98273885, 30.9311562 , 33.45983319, 38.83664822,\n",
       "        35.15193513],\n",
       "       [34.68316557, 38.31244053, 49.51132319, 51.67755889, 52.16291397,\n",
       "        50.35332048]])"
      ]
     },
     "execution_count": 343,
     "metadata": {},
     "output_type": "execute_result"
    }
   ],
   "source": [
    "#determines the payoff at all times except the first time, this may have to be adjusted\n",
    "# to include the first time as well in case the strike price changes\n",
    "for i in range(0,N):\n",
    "    payoffS = np.maximum(K-X,0)\n",
    "payoffS = payoffS[:, 1:]\n",
    "payoffS"
   ]
  },
  {
   "cell_type": "code",
   "execution_count": 344,
   "metadata": {},
   "outputs": [
    {
     "data": {
      "text/plain": [
       "array([34.30661906, 58.26196712, 27.12070409, 27.42585813, 40.68932901,\n",
       "       35.15193513, 50.35332048])"
      ]
     },
     "execution_count": 344,
     "metadata": {},
     "output_type": "execute_result"
    }
   ],
   "source": [
    "value_end = np.maximum(K-stock_end,0)\n",
    "value_end"
   ]
  },
  {
   "cell_type": "code",
   "execution_count": 345,
   "metadata": {},
   "outputs": [
    {
     "name": "stderr",
     "output_type": "stream",
     "text": [
      "C:\\Users\\stefa\\AppData\\Local\\Temp\\ipykernel_45956\\251089087.py:20: RuntimeWarning: invalid value encountered in divide\n",
      "  prob /= np.sum(prob)\n"
     ]
    }
   ],
   "source": [
    "\n",
    "\n",
    "# Calculate time step\n",
    "dt = T / N\n",
    "\n",
    "# Initialize a list to store matrices for each time step\n",
    "probability_matrices = []\n",
    "\n",
    "# Calculate conditional probabilities for each time step\n",
    "for j in range(N-2, -1, -1):\n",
    "    probability_matrix = np.zeros((num_paths, num_paths))\n",
    "\n",
    "    for k in range(num_paths):\n",
    "        # Calculate the conditional probability using the log-normal distribution\n",
    "        if(X[k,j] == 0):\n",
    "            probability_matrix[k, :] = 0.0\n",
    "        else:\n",
    "            mu_conditional = np.log(X[:, j+1] / X[k, j]) / dt - 0.5 * sigma**2\n",
    "            sigma_conditional = sigma * np.sqrt(dt)\n",
    "            prob = scipy.stats.norm.pdf(np.log(X[:, j+1] / X[k, j]), loc=mu_conditional, scale=sigma_conditional)\n",
    "            prob = scipy.stats.norm.pdf(np.log(X[:, j+1] / X[k, j]), loc=mu_conditional, scale=sigma_conditional)\n",
    "            prob /= np.sum(prob)\n",
    "            probability_matrix[k, :] = prob\n",
    "\n",
    "    # Append the probability matrix for the current time step to the list\n",
    "    probability_matrices.append(probability_matrix)\n",
    "\n",
    "# Now, probability_matrices[j] represents the matrix of probabilities for time step j\n"
   ]
  },
  {
   "cell_type": "code",
   "execution_count": 346,
   "metadata": {},
   "outputs": [
    {
     "data": {
      "text/plain": [
       "array([[37.28732216, 38.00718665, 40.72465472, 40.03003258, 41.35487767,\n",
       "        34.30661906],\n",
       "       [49.31142088, 52.77778617, 55.12686518, 59.67730998, 55.60035862,\n",
       "        58.26196712],\n",
       "       [38.03554133, 43.05099657, 50.48155428, 39.26475332, 33.00552126,\n",
       "        27.12070409],\n",
       "       [37.71706821, 35.02713186, 40.63737121, 30.77560926, 32.64032543,\n",
       "        27.42585813],\n",
       "       [43.77256115, 35.30373491, 39.60262028, 41.0521196 , 38.15445019,\n",
       "        40.68932901],\n",
       "       [30.63621841, 25.98273885, 30.9311562 , 33.45983319, 38.83664822,\n",
       "        35.15193513],\n",
       "       [34.68316557, 38.31244053, 49.51132319, 51.67755889, 52.16291397,\n",
       "        50.35332048]])"
      ]
     },
     "execution_count": 346,
     "metadata": {},
     "output_type": "execute_result"
    }
   ],
   "source": [
    "payoffS"
   ]
  },
  {
   "cell_type": "code",
   "execution_count": 347,
   "metadata": {},
   "outputs": [
    {
     "data": {
      "text/plain": [
       "[array([[ 0.,  0.,  0.,  0.,  1.,  0.,  0.],\n",
       "        [nan, nan, nan, nan, nan, nan, nan],\n",
       "        [ 1.,  0.,  0.,  0.,  0.,  0.,  0.],\n",
       "        [ 1.,  0.,  0.,  0.,  0.,  0.,  0.],\n",
       "        [nan, nan, nan, nan, nan, nan, nan],\n",
       "        [ 0.,  0.,  0.,  0.,  1.,  0.,  0.],\n",
       "        [ 0.,  0.,  0.,  0.,  0.,  0.,  1.]]),\n",
       " array([[1.05886781e-046, 0.00000000e+000, 0.00000000e+000,\n",
       "         0.00000000e+000, 2.80062235e-147, 1.00000000e+000,\n",
       "         0.00000000e+000],\n",
       "        [            nan,             nan,             nan,\n",
       "                     nan,             nan,             nan,\n",
       "                     nan],\n",
       "        [0.00000000e+000, 0.00000000e+000, 0.00000000e+000,\n",
       "         0.00000000e+000, 2.50287712e-071, 1.00000000e+000,\n",
       "         0.00000000e+000],\n",
       "        [0.00000000e+000, 0.00000000e+000, 0.00000000e+000,\n",
       "         1.00000000e+000, 0.00000000e+000, 0.00000000e+000,\n",
       "         0.00000000e+000],\n",
       "        [1.00000000e+000, 0.00000000e+000, 0.00000000e+000,\n",
       "         0.00000000e+000, 0.00000000e+000, 0.00000000e+000,\n",
       "         0.00000000e+000],\n",
       "        [0.00000000e+000, 0.00000000e+000, 1.00000000e+000,\n",
       "         9.79160814e-030, 0.00000000e+000, 0.00000000e+000,\n",
       "         0.00000000e+000],\n",
       "        [0.00000000e+000, 0.00000000e+000, 0.00000000e+000,\n",
       "         0.00000000e+000, 0.00000000e+000, 0.00000000e+000,\n",
       "         1.00000000e+000]]),\n",
       " array([[3.71575751e-020, 0.00000000e+000, 5.52547963e-135,\n",
       "         0.00000000e+000, 1.00000000e+000, 0.00000000e+000,\n",
       "         0.00000000e+000],\n",
       "        [            nan,             nan,             nan,\n",
       "                     nan,             nan,             nan,\n",
       "                     nan],\n",
       "        [0.00000000e+000, 0.00000000e+000, 0.00000000e+000,\n",
       "         0.00000000e+000, 0.00000000e+000, 0.00000000e+000,\n",
       "         1.00000000e+000],\n",
       "        [5.68620246e-007, 0.00000000e+000, 5.67499491e-112,\n",
       "         0.00000000e+000, 9.99999431e-001, 0.00000000e+000,\n",
       "         0.00000000e+000],\n",
       "        [6.89363083e-012, 0.00000000e+000, 1.00000000e+000,\n",
       "         0.00000000e+000, 1.68649025e-161, 0.00000000e+000,\n",
       "         0.00000000e+000],\n",
       "        [0.00000000e+000, 0.00000000e+000, 0.00000000e+000,\n",
       "         1.00000000e+000, 0.00000000e+000, 0.00000000e+000,\n",
       "         0.00000000e+000],\n",
       "        [            nan,             nan,             nan,\n",
       "                     nan,             nan,             nan,\n",
       "                     nan]]),\n",
       " array([[ 0.,  0.,  0.,  0.,  1.,  0.,  0.],\n",
       "        [nan, nan, nan, nan, nan, nan, nan],\n",
       "        [nan, nan, nan, nan, nan, nan, nan],\n",
       "        [nan, nan, nan, nan, nan, nan, nan],\n",
       "        [nan, nan, nan, nan, nan, nan, nan],\n",
       "        [nan, nan, nan, nan, nan, nan, nan],\n",
       "        [ 0.,  0.,  0.,  0.,  1.,  0.,  0.]]),\n",
       " array([[1.00000000e+000, 0.00000000e+000, 0.00000000e+000,\n",
       "         0.00000000e+000, 1.35500946e-220, 0.00000000e+000,\n",
       "         1.89474721e-041],\n",
       "        [            nan,             nan,             nan,\n",
       "                     nan,             nan,             nan,\n",
       "                     nan],\n",
       "        [9.99999987e-001, 0.00000000e+000, 0.00000000e+000,\n",
       "         0.00000000e+000, 0.00000000e+000, 0.00000000e+000,\n",
       "         1.30095452e-008],\n",
       "        [1.00000000e+000, 0.00000000e+000, 0.00000000e+000,\n",
       "         0.00000000e+000, 0.00000000e+000, 0.00000000e+000,\n",
       "         1.32548289e-022],\n",
       "        [0.00000000e+000, 0.00000000e+000, 1.00000000e+000,\n",
       "         0.00000000e+000, 0.00000000e+000, 0.00000000e+000,\n",
       "         0.00000000e+000],\n",
       "        [            nan,             nan,             nan,\n",
       "                     nan,             nan,             nan,\n",
       "                     nan],\n",
       "        [0.00000000e+000, 0.00000000e+000, 0.00000000e+000,\n",
       "         1.00000000e+000, 1.61428095e-021, 0.00000000e+000,\n",
       "         0.00000000e+000]]),\n",
       " array([[0., 0., 0., 0., 1., 0., 0.],\n",
       "        [0., 0., 0., 0., 1., 0., 0.],\n",
       "        [0., 0., 0., 0., 1., 0., 0.],\n",
       "        [0., 0., 0., 0., 1., 0., 0.],\n",
       "        [0., 0., 0., 0., 1., 0., 0.],\n",
       "        [0., 0., 0., 0., 1., 0., 0.],\n",
       "        [0., 0., 0., 0., 1., 0., 0.]])]"
      ]
     },
     "execution_count": 347,
     "metadata": {},
     "output_type": "execute_result"
    }
   ],
   "source": [
    "#Organized such that the first row of any matrix is the transition probabilities from the top node,\n",
    "# to all nodes in the next time step, and then goes down the column of nodes repeating process for each row\n",
    "#matrix 0 in list corresponds to time step J-1\n",
    "probability_matrices"
   ]
  },
  {
   "cell_type": "code",
   "execution_count": 218,
   "metadata": {},
   "outputs": [
    {
     "name": "stdout",
     "output_type": "stream",
     "text": [
      "5\n"
     ]
    }
   ],
   "source": [
    "print(N)"
   ]
  },
  {
   "cell_type": "code",
   "execution_count": 219,
   "metadata": {},
   "outputs": [
    {
     "name": "stdout",
     "output_type": "stream",
     "text": [
      "12.141404303571488 k= 0 i= 0 j= 3\n",
      "nan k= 0 i= 1 j= 3\n",
      "11.29935651093563 k= 0 i= 2 j= 3\n",
      "nan k= 0 i= 3 j= 3\n",
      "0.0 k= 0 i= 4 j= 3\n",
      "nan k= 0 i= 5 j= 3\n",
      "19.860144778759462 k= 1 i= 0 j= 2\n",
      "18.911336645711064 k= 1 i= 1 j= 2\n",
      "nan k= 1 i= 2 j= 2\n",
      "0.0 k= 1 i= 3 j= 2\n",
      "nan k= 1 i= 4 j= 2\n",
      "11.24921806679897 k= 1 i= 5 j= 2\n",
      "18.794605725850317 k= 2 i= 0 j= 1\n",
      "18.794605725850317 k= 2 i= 1 j= 1\n",
      "2.9082039746991715 k= 2 i= 2 j= 1\n",
      "2.9082039759552285 k= 2 i= 3 j= 1\n",
      "7.603266113086059 k= 2 i= 4 j= 1\n",
      "9.910664372070219 k= 2 i= 5 j= 1\n",
      "10.636963183269039 k= 3 i= 0 j= 0\n",
      "10.636963183269039 k= 3 i= 1 j= 0\n",
      "10.636963183269039 k= 3 i= 2 j= 0\n",
      "10.636963183269039 k= 3 i= 3 j= 0\n",
      "10.636963183269039 k= 3 i= 4 j= 0\n",
      "10.636963183269039 k= 3 i= 5 j= 0\n"
     ]
    }
   ],
   "source": [
    "#multiplies the first through third row of each matrix by payoff of the corresponding time \n",
    "#ex: in matrix 1, the first row will be multiplied by the last row of the payoff matrix\n",
    "#these will then be added up and put in the top right of the continuation matrix (2,2), \n",
    "# this is based on how I calculated the probabilites earlier with matrix 1 corresponding to the probabilities for time j to j+1\n",
    "\n",
    "k = 0\n",
    "cont_matrix = np.zeros((num_paths,N-1))\n",
    "for j in range(N-2,-1,-1):\n",
    "    for i in range(num_paths):\n",
    "        cont_matrix[i][j] = np.dot(probability_matrices[k][i,:],payoffS[:,j])*np.exp(r*dt)\n",
    "        print(cont_matrix[i][j], 'k=', k, \"i=\", i, 'j=', j)\n",
    "    k+=1"
   ]
  },
  {
   "cell_type": "code",
   "execution_count": 220,
   "metadata": {},
   "outputs": [
    {
     "data": {
      "text/plain": [
       "array([[10.63696318, 18.79460573, 19.86014478, 12.1414043 ],\n",
       "       [10.63696318, 18.79460573, 18.91133665,         nan],\n",
       "       [10.63696318,  2.90820397,         nan, 11.29935651],\n",
       "       [10.63696318,  2.90820398,  0.        ,         nan],\n",
       "       [10.63696318,  7.60326611,         nan,  0.        ],\n",
       "       [10.63696318,  9.91066437, 11.24921807,         nan]])"
      ]
     },
     "execution_count": 220,
     "metadata": {},
     "output_type": "execute_result"
    }
   ],
   "source": [
    "cont_matrix"
   ]
  },
  {
   "cell_type": "code",
   "execution_count": 221,
   "metadata": {},
   "outputs": [
    {
     "data": {
      "text/plain": [
       "array([[16.89406909, 20.85623362, 19.86014478, 12.1414043 ],\n",
       "       [15.92070592, 18.79460573, 19.84057974,         nan],\n",
       "       [10.63696318,  7.59577583,         nan, 12.12944331],\n",
       "       [10.63696318,  2.90820398,  0.        ,         nan],\n",
       "       [10.63696318,  7.60326611,         nan,  0.        ],\n",
       "       [10.63696318,  9.91066437, 18.89270632,         nan]])"
      ]
     },
     "execution_count": 221,
     "metadata": {},
     "output_type": "execute_result"
    }
   ],
   "source": [
    "#take max of the continuation value and current payoff (missing e^-rdt factor)\n",
    "max_value = np.maximum(cont_matrix,payoffS)\n",
    "max_value"
   ]
  },
  {
   "cell_type": "code",
   "execution_count": 225,
   "metadata": {},
   "outputs": [
    {
     "data": {
      "text/plain": [
       "15.072525548994872"
      ]
     },
     "execution_count": 225,
     "metadata": {},
     "output_type": "execute_result"
    }
   ],
   "source": [
    "#after the above process which goes backwards through the paths, we should have a final price value by discounting the expectations at time 1 I believe.\n",
    "\n",
    "price = sum(1/N*max_value[:,0])\n",
    "price "
   ]
  },
  {
   "cell_type": "code",
   "execution_count": 226,
   "metadata": {},
   "outputs": [
    {
     "name": "stdout",
     "output_type": "stream",
     "text": [
      "15.072525548994872  vs  11.68\n"
     ]
    }
   ],
   "source": [
    "print(price, \" vs \", option_stats[5])"
   ]
  }
 ],
 "metadata": {
  "kernelspec": {
   "display_name": "Python 3",
   "language": "python",
   "name": "python3"
  },
  "language_info": {
   "codemirror_mode": {
    "name": "ipython",
    "version": 3
   },
   "file_extension": ".py",
   "mimetype": "text/x-python",
   "name": "python",
   "nbconvert_exporter": "python",
   "pygments_lexer": "ipython3",
   "version": "3.11.5"
  }
 },
 "nbformat": 4,
 "nbformat_minor": 4
}
