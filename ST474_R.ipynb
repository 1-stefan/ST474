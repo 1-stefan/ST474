{
 "cells": [
  {
   "cell_type": "code",
   "execution_count": 4,
   "id": "43284032-1cd3-40e0-95fc-44b505297579",
   "metadata": {},
   "outputs": [
    {
     "name": "stderr",
     "output_type": "stream",
     "text": [
      "Installing package into ‘/home/jupyter/R/x86_64-pc-linux-gnu-library/4.1’\n",
      "(as ‘lib’ is unspecified)\n",
      "\n"
     ]
    }
   ],
   "source": [
    "#library(LSMRealOptions) Install this if needed in R to replicate: create new ipynb select R as kernel\n",
    "install.packages('LSMRealOptions')"
   ]
  },
  {
   "cell_type": "code",
   "execution_count": 5,
   "id": "5e16a317-7feb-4a99-96ee-5888ce1b2fb0",
   "metadata": {},
   "outputs": [],
   "source": [
    "library(LSMRealOptions)\n",
    "set.seed(1)"
   ]
  },
  {
   "cell_type": "code",
   "execution_count": 6,
   "id": "0000d458-1757-4d41-9f44-1111a2636c76",
   "metadata": {},
   "outputs": [],
   "source": [
    "stock_prices <- GBM_simulate(n = 1e4, t = 1, mu = 0.06, sigma = 0.2, S0 = 36, dt = 1/50)"
   ]
  },
  {
   "cell_type": "code",
   "execution_count": 7,
   "id": "b859f234-d55e-472c-a63c-1dc1ce5ac39a",
   "metadata": {},
   "outputs": [
    {
     "name": "stdout",
     "output_type": "stream",
     "text": [
      "               Value       Standard Error      Expected Timing \n",
      "              4.4641               0.0299               0.3684 \n",
      "  Expected Timing SE Exercise Probability \n",
      "              0.0032               0.7385 \n"
     ]
    }
   ],
   "source": [
    "put_option_value <- LSM_american_option(state_variables = stock_prices,\n",
    "                                  payoff = stock_prices,\n",
    "                                  K = 40,\n",
    "                                  dt = 1/50,\n",
    "                                  rf = 0.06,\n",
    "                                  verbose = TRUE)\n",
    "print(round(unlist(put_option_value[1:5]),4))"
   ]
  }
 ],
 "metadata": {
  "kernelspec": {
   "display_name": "R",
   "language": "R",
   "name": "ir"
  },
  "language_info": {
   "codemirror_mode": "r",
   "file_extension": ".r",
   "mimetype": "text/x-r-source",
   "name": "R",
   "pygments_lexer": "r",
   "version": "4.1.2"
  }
 },
 "nbformat": 4,
 "nbformat_minor": 5
}
