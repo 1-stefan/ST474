{
 "cells": [
  {
   "cell_type": "code",
   "execution_count": 208,
   "metadata": {},
   "outputs": [],
   "source": [
    "import yfinance as yf\n",
    "import pandas as pd\n",
    "import numpy as np\n",
    "import matplotlib.pyplot as plt\n",
    "import seaborn as sns\n",
    "import sklearn as sk\n",
    "import statsmodels.api as sm\n",
    "from datetime import datetime as dt\n",
    "from dateutil.relativedelta import relativedelta as rd\n",
    "import schedule\n",
    "from sklearn.linear_model import LinearRegression\n",
    "from scipy import stats\n",
    "import scipy.stats"
   ]
  },
  {
   "cell_type": "code",
   "execution_count": 209,
   "metadata": {},
   "outputs": [],
   "source": [
    "#function for testing the time it takes for another function to run\n",
    "\n",
    "from functools import wraps\n",
    "from time import time\n",
    "\n",
    "def timing(f):\n",
    "    @wraps(f)\n",
    "    def wrap(*args,**kw):\n",
    "        tstart = time()\n",
    "        result = f(*args,**kw)\n",
    "        tend = time()\n",
    "        print('func:%r args: [%r,%r] took: %2.4f sec' % \\\n",
    "              (f.__name__,args,kw,tend-tstart))\n",
    "        return result\n",
    "    return wrap\n",
    "        \n",
    "        \n",
    "    "
   ]
  },
  {
   "cell_type": "code",
   "execution_count": 210,
   "metadata": {},
   "outputs": [],
   "source": [
    "#Inputs\n",
    "r = 0.06 # Risk-free rate taken from US treasury bonds \n",
    "sigma = 0.2\n",
    "mu = 0.06\n",
    "seed = None\n",
    "S0 = 100 #Initial Stock Price\n",
    "K = 100  #Strike Price\n",
    "T = 1    #Time to Maturity in Years\n",
    "N = 4   #Number of Time Steps\n",
    "u = 1.1  #up-factor in binomial model\n",
    "d = 1/u  #down-factor in binomial model\n",
    "optiontype = 'P' #Choose 'C' for call & 'P' for Put\n",
    "num_paths = 3\n"
   ]
  },
  {
   "cell_type": "code",
   "execution_count": 211,
   "metadata": {},
   "outputs": [],
   "source": [
    "def gbm_stock_price(S0, mu, sigma, T, N, seed=None):\n",
    "    np.random.seed(seed)\n",
    "    dt = T / N\n",
    "    t = np.linspace(0, T, N+1)\n",
    "    W = np.random.standard_normal(size=N+1) \n",
    "    W = np.cumsum(W) * np.sqrt(dt)  # Brownian motion\n",
    "    X = (r - 0.5 * sigma**2) * t + sigma * W  # GBM process\n",
    "    S = S0 * np.exp(X)  # Stock price process\n",
    "    S[0] = S0\n",
    "    return S"
   ]
  },
  {
   "cell_type": "code",
   "execution_count": 212,
   "metadata": {},
   "outputs": [],
   "source": [
    "#Generates a brownian Motion Matrix W and a Stock Price Matrix X with each row representing \n",
    "# a stock price path starting at the initial S0 above\n",
    "\n",
    "X = np.zeros((num_paths, N))\n",
    "W = np.zeros((num_paths, N))\n",
    "\n",
    "np.random.seed(seed)\n",
    "dt = T / N\n",
    "t = np.linspace(0, T, N)\n",
    "\n",
    "for path in range(num_paths):\n",
    "    # Generate random samples from a normal distribution\n",
    "    random_samples = np.random.normal(size=N)\n",
    "    \n",
    "    # Scale the random samples by the square root of the time step\n",
    "    scaled_samples = np.sqrt(dt) * random_samples\n",
    "    \n",
    "    # Cumulatively sum the scaled samples to simulate Brownian motion\n",
    "    W[path,:] = np.cumsum(scaled_samples)\n",
    "    X[path,:] = S0*np.exp((mu - 0.5 * sigma**2) * t + sigma * W[path,:])\n",
    "X[:,0] = S0\n"
   ]
  },
  {
   "cell_type": "code",
   "execution_count": 213,
   "metadata": {},
   "outputs": [
    {
     "data": {
      "text/plain": [
       "array([[100.        ,  81.69402767,  82.6751817 ,  71.62839877],\n",
       "       [100.        , 100.53578577, 100.99793123, 114.87477909],\n",
       "       [100.        , 120.85766382, 113.51377067, 102.75079923]])"
      ]
     },
     "execution_count": 213,
     "metadata": {},
     "output_type": "execute_result"
    }
   ],
   "source": [
    "#Visualization of stock price paths in the matrix, can be adjusted properly\n",
    "X"
   ]
  },
  {
   "cell_type": "code",
   "execution_count": 214,
   "metadata": {},
   "outputs": [
    {
     "data": {
      "text/plain": [
       "array([ 71.62839877, 114.87477909, 102.75079923])"
      ]
     },
     "execution_count": 214,
     "metadata": {},
     "output_type": "execute_result"
    }
   ],
   "source": [
    "stock_end = X[:, -1]\n",
    "stock_end"
   ]
  },
  {
   "cell_type": "code",
   "execution_count": 215,
   "metadata": {},
   "outputs": [
    {
     "data": {
      "text/plain": [
       "array([[18.30597233, 17.3248183 , 28.37160123],\n",
       "       [ 0.        ,  0.        ,  0.        ],\n",
       "       [ 0.        ,  0.        ,  0.        ]])"
      ]
     },
     "execution_count": 215,
     "metadata": {},
     "output_type": "execute_result"
    }
   ],
   "source": [
    "#determines the payoff at all times except the first time, this may have to be adjusted\n",
    "# to include the first time as well in case the strike price changes\n",
    "for i in range(0,N):\n",
    "    payoffS = np.maximum(K-X,0)\n",
    "payoffS = payoffS[:, 1:]\n",
    "payoffS"
   ]
  },
  {
   "cell_type": "code",
   "execution_count": 217,
   "metadata": {},
   "outputs": [
    {
     "data": {
      "text/plain": [
       "array([28.37160123,  0.        ,  0.        ])"
      ]
     },
     "execution_count": 217,
     "metadata": {},
     "output_type": "execute_result"
    }
   ],
   "source": [
    "value_end = np.maximum(K-stock_end,0)\n",
    "value_end"
   ]
  },
  {
   "cell_type": "code",
   "execution_count": 219,
   "metadata": {},
   "outputs": [],
   "source": [
    "\n",
    "\n",
    "# Calculate time step\n",
    "dt = T / N\n",
    "\n",
    "# Initialize a list to store matrices for each time step\n",
    "probability_matrices = []\n",
    "\n",
    "# Calculate conditional probabilities for each time step\n",
    "for j in range(N-2, -1, -1):\n",
    "    probability_matrix = np.zeros((num_paths, num_paths))\n",
    "\n",
    "    for k in range(num_paths):\n",
    "        # Calculate the conditional probability using the log-normal distribution\n",
    "        mu_conditional = np.log(X[:, j+1] / X[k, j]) / dt - 0.5 * sigma**2\n",
    "        sigma_conditional = sigma * np.sqrt(dt)\n",
    "\n",
    "        # Calculate the probability using the log-normal distribution formula\n",
    "        prob = scipy.stats.norm.pdf(np.log(X[:, j+1] / X[k, j]), loc=mu_conditional, scale=sigma_conditional)\n",
    "\n",
    "        # Normalize the probabilities to sum to 1\n",
    "        prob /= np.sum(prob)\n",
    "\n",
    "        # Store the probability in the matrix\n",
    "        probability_matrix[k, :] = prob\n",
    "\n",
    "    # Append the probability matrix for the current time step to the list\n",
    "    probability_matrices.append(probability_matrix)\n",
    "\n",
    "# Now, probability_matrices[j] represents the matrix of probabilities for time step j\n"
   ]
  },
  {
   "cell_type": "code",
   "execution_count": 221,
   "metadata": {},
   "outputs": [
    {
     "data": {
      "text/plain": [
       "array([[18.30597233, 17.3248183 , 28.37160123],\n",
       "       [ 0.        ,  0.        ,  0.        ],\n",
       "       [ 0.        ,  0.        ,  0.        ]])"
      ]
     },
     "execution_count": 221,
     "metadata": {},
     "output_type": "execute_result"
    }
   ],
   "source": [
    "payoffS"
   ]
  },
  {
   "cell_type": "code",
   "execution_count": 222,
   "metadata": {},
   "outputs": [
    {
     "data": {
      "text/plain": [
       "[array([[9.99946920e-01, 1.28004632e-16, 5.30804612e-05],\n",
       "        [1.10413819e-24, 1.28443367e-03, 9.98715566e-01],\n",
       "        [2.30612060e-43, 9.93762610e-01, 6.23739034e-03]]),\n",
       " array([[9.99999994e-01, 5.70275859e-09, 5.09776884e-21],\n",
       "        [1.01073986e-08, 9.97329475e-01, 2.67051463e-03],\n",
       "        [5.84745324e-29, 1.46485060e-06, 9.99998535e-01]]),\n",
       " array([[2.98825320e-09, 9.99999701e-01, 2.96119646e-07],\n",
       "        [2.98825320e-09, 9.99999701e-01, 2.96119646e-07],\n",
       "        [2.98825320e-09, 9.99999701e-01, 2.96119646e-07]])]"
      ]
     },
     "execution_count": 222,
     "metadata": {},
     "output_type": "execute_result"
    }
   ],
   "source": [
    "#Organized such that the first row of any matrix is the transition probabilities from the top node,\n",
    "# to all nodes in the next time step, and then goes down the column of nodes repeating process for each row\n",
    "#matrix 0 in list corresponds to time step J-1\n",
    "probability_matrices"
   ]
  },
  {
   "cell_type": "code",
   "execution_count": 226,
   "metadata": {},
   "outputs": [],
   "source": [
    "#multiplies the first through third row of each matrix by payoff of the corresponding time \n",
    "#ex: in matrix 1, the first row will be multiplied by the last row of the payoff matrix\n",
    "#these will then be added up and put in the top right of the continuation matrix (2,2), \n",
    "# this is based on how I calculated the probabilites earlier with matrix 1 corresponding to the probabilities for time j to j+1\n",
    "\n",
    "k = 0\n",
    "cont_matrix = np.zeros((num_paths,num_paths))\n",
    "for j in range(num_paths-1,-1,-1):\n",
    "    for i in range(num_paths):\n",
    "        cont_matrix[i][j] = np.dot(probability_matrices[k][i,:],payoffS[:,j])\n",
    "    k+=1"
   ]
  },
  {
   "cell_type": "code",
   "execution_count": 227,
   "metadata": {},
   "outputs": [
    {
     "data": {
      "text/plain": [
       "array([[5.47028805e-08, 1.73248182e+01, 2.83700953e+01],\n",
       "       [5.47028805e-08, 1.75108845e-07, 3.13261684e-23],\n",
       "       [5.47028805e-08, 1.01306065e-27, 6.54283340e-42]])"
      ]
     },
     "execution_count": 227,
     "metadata": {},
     "output_type": "execute_result"
    }
   ],
   "source": [
    "cont_matrix"
   ]
  },
  {
   "cell_type": "code",
   "execution_count": 228,
   "metadata": {},
   "outputs": [
    {
     "data": {
      "text/plain": [
       "array([[1.83059723e+01, 1.73248183e+01, 2.83716012e+01],\n",
       "       [5.47028805e-08, 1.75108845e-07, 3.13261684e-23],\n",
       "       [5.47028805e-08, 1.01306065e-27, 6.54283340e-42]])"
      ]
     },
     "execution_count": 228,
     "metadata": {},
     "output_type": "execute_result"
    }
   ],
   "source": [
    "#take max of the continuation value and current payoff (missing e^-rdt factor)\n",
    "max_value = np.maximum(cont_matrix,payoffS)\n",
    "max_value"
   ]
  },
  {
   "cell_type": "code",
   "execution_count": 229,
   "metadata": {},
   "outputs": [
    {
     "data": {
      "text/plain": [
       "6.10199081208825"
      ]
     },
     "execution_count": 229,
     "metadata": {},
     "output_type": "execute_result"
    }
   ],
   "source": [
    "#after the above process which goes backwards through the paths, we should have a final price value by discounting the expectations at time 1 I believe.\n",
    "\n",
    "price = sum(1/3*max_value[:,0])\n",
    "price "
   ]
  }
 ],
 "metadata": {
  "kernelspec": {
   "display_name": "Python 3",
   "language": "python",
   "name": "python3"
  },
  "language_info": {
   "codemirror_mode": {
    "name": "ipython",
    "version": 3
   },
   "file_extension": ".py",
   "mimetype": "text/x-python",
   "name": "python",
   "nbconvert_exporter": "python",
   "pygments_lexer": "ipython3",
   "version": "3.7.6"
  }
 },
 "nbformat": 4,
 "nbformat_minor": 4
}
