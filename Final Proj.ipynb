{
 "cells": [
  {
   "cell_type": "code",
   "execution_count": 13,
   "metadata": {},
   "outputs": [],
   "source": [
    "#uncomment if not installed\n",
    "#pip install yfinance\n",
    "import yfinance as yf\n",
    "import math\n",
    "import numpy as np\n",
    "import pandas as pd\n",
    "import datetime\n",
    "import scipy.stats as stats\n",
    "import matplotlib.pyplot as plt\n",
    "from datetime import datetime as dt\n",
    "from dateutil.relativedelta import relativedelta as rd"
   ]
  },
  {
   "cell_type": "code",
   "execution_count": 37,
   "metadata": {},
   "outputs": [
    {
     "data": {
      "text/plain": [
       "0.6575342465753424"
      ]
     },
     "execution_count": 37,
     "metadata": {},
     "output_type": "execute_result"
    }
   ],
   "source": [
    "ticker = yf.Ticker(\"AAPL\")\n",
    "options_dates = ticker.options\n",
    "test = np.array(list(options_dates))\n",
    "option_dates1 = [dt.strptime(date, \"%Y-%m-%d\") for date in test]\n",
    "T = (rd(dt.strptime(\"2024-08-15\", '%Y-%m-%d'), dt.today()).months)*30/365\n",
    "T\n",
    "#dt.today()\n",
    "#dt.strptime(\"2024-08-15\", '%Y-%m-%d')\n",
    "#dt.datetime.strptime(test, \"%y-%m-%d\")\n",
    "#for option in options_dates:\n",
    "    #dt.datetime.strptime(option, \"%y-%m-%d\")\n",
    "#options_dates\n",
    "#options_dates.index()\n",
    "#options_dates\n",
    "#next two lines grabs all expiery dates from ticker and matches closest one to the expiry we want\n",
    "#option_dates1 = [dt.datetime.strptime(date, \"%y-%m-%d\") for date in options_dates]\n",
    "#option_date = min(option_dates1, key = lambda x: abs(x - dt.datetime.strptime('2024-08-15', '%y-%m-%d')))\n",
    "#option = ticker.option_chain(option_date)\n",
    "#option"
   ]
  },
  {
   "cell_type": "code",
   "execution_count": 38,
   "metadata": {},
   "outputs": [
    {
     "data": {
      "text/plain": [
       "0.5753424657534246"
      ]
     },
     "execution_count": 38,
     "metadata": {},
     "output_type": "execute_result"
    }
   ],
   "source": [
    "#Grab a stock for our paths, S ,T, K\n",
    "def grabstock(symbol, exp_date, strike,type):\n",
    "    # symbol: Ticker for the option\n",
    "    # exp_date: The date of expiration for the option\n",
    "    # strike: Strike price\n",
    "    # type: Whether a call or put\n",
    "    try:\n",
    "        # Fetch the stock option data\n",
    "        ticker = yf.Ticker(symbol)\n",
    "        options = ticker.options\n",
    "        options_dates = np.array(list(options))\n",
    "        #next two lines grabs all expiery dates from ticker and matches closest one to the expiry we want\n",
    "        option_dates1 = [dt.strptime(date, '%Y-%m-%d') for date in options_dates]\n",
    "        option_date = min(option_dates1, key = lambda x: abs(x - dt.strptime(exp_date , '%Y-%m-%d')))\n",
    "        option = ticker.option_chain(option_date.strftime('%Y-%m-%d'))\n",
    "        closest_strike = min(option.calls.strike, key=lambda x:abs(x-strike))\n",
    "        T = (rd(option_date, dt.today()).months)*30/365\n",
    "        if(type == 'call'):\n",
    "            call = option.calls.loc[option.calls.strike == closest_strike].head(1)\n",
    "            K = call.strike\n",
    "            price = call.lastPrice\n",
    "            sigma = call.impliedVolatility\n",
    "            S = ticker.history(period=\"1d\")[\"Close\"].iloc[-1]\n",
    "            r = 0.05\n",
    "            q = 0.02\n",
    "        elif(type == 'put'):\n",
    "            put = option.puts.loc[option.puts.strike == closest_strike].head(1)\n",
    "            K = put.strike\n",
    "            price = put.lastPrice\n",
    "            sigma = put.impliedVolatility\n",
    "            S = ticker.history(period=\"1d\")[\"Close\"].iloc[-1]\n",
    "            r = 0.05\n",
    "            q = 0.02\n",
    "        else:\n",
    "            return \"Wrong type please enter put or call when calling grabstock\"\n",
    "        vals = [S, T, r, q, sigma, K]\n",
    "        return vals\n",
    "        \n",
    "    except Exception as e:\n",
    "        print(f\"Error: {e}\")\n",
    "        return None\n",
    "\n",
    "test = grabstock(\"AAPL\", \"2024-07-15\", 153, 'call')\n",
    "test[1]"
   ]
  },
  {
   "cell_type": "code",
   "execution_count": null,
   "metadata": {},
   "outputs": [],
   "source": [
    "def paths(S, T, r, q, sigma, steps, N):\n",
    "    \"\"\"\n",
    "    Inputs\n",
    "    #S = Current stock Price\n",
    "    #K = Strike Price\n",
    "    #T = Time to maturity 1 year = 1, 1 months = 1/12\n",
    "    #r = risk free interest rate\n",
    "    #q = dividend yield\n",
    "    # sigma = volatility \n",
    "    \n",
    "    Output\n",
    "    # [steps,N] Matrix of asset paths \n",
    "    \"\"\"\n",
    "    dt = T/steps\n",
    "    #S_{T} = ln(S_{0})+\\int_{0}^T(\\mu-\\frac{\\sigma^2}{2})dt+\\int_{0}^T \\sigma dW(t)\n",
    "    ST = np.log(S) +  np.cumsum(((r - q - sigma**2/2)*dt +\\\n",
    "                              sigma*np.sqrt(dt) * \\\n",
    "                              np.random.normal(size=(steps,N))),axis=0)\n",
    "    \n",
    "    return np.exp(ST)\n",
    "\n",
    "\n",
    "steps = 100 # time steps\n",
    "N = 1000 # number of trials\n",
    "\n",
    "STs = paths(test[0],T,r, q,sigma,steps,N)\n",
    "plt.plot(STs);"
   ]
  },
  {
   "cell_type": "code",
   "execution_count": null,
   "metadata": {},
   "outputs": [],
   "source": [
    "payoffs = np.maximum(STs[-1]-K, 0)\n",
    "option_price = np.mean(payoffs)*np.exp(-r*T)\n",
    "option_price"
   ]
  }
 ],
 "metadata": {
  "kernelspec": {
   "display_name": "base",
   "language": "python",
   "name": "python3"
  },
  "language_info": {
   "codemirror_mode": {
    "name": "ipython",
    "version": 3
   },
   "file_extension": ".py",
   "mimetype": "text/x-python",
   "name": "python",
   "nbconvert_exporter": "python",
   "pygments_lexer": "ipython3",
   "version": "3.11.5"
  }
 },
 "nbformat": 4,
 "nbformat_minor": 2
}
